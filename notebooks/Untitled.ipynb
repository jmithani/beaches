{
 "cells": [
  {
   "cell_type": "code",
   "execution_count": 1,
   "metadata": {
    "collapsed": true
   },
   "outputs": [],
   "source": [
    "import pandas as pd\n",
    "import matplotlib as plt\n",
    "%matplotlib inline"
   ]
  },
  {
   "cell_type": "code",
   "execution_count": 2,
   "metadata": {},
   "outputs": [
    {
     "data": {
      "text/html": [
       "<div>\n",
       "<table border=\"1\" class=\"dataframe\">\n",
       "  <thead>\n",
       "    <tr style=\"text-align: right;\">\n",
       "      <th></th>\n",
       "      <th>Beach Name</th>\n",
       "      <th>Date</th>\n",
       "      <th>Predicted Level</th>\n",
       "      <th>Probability</th>\n",
       "      <th>Swim Advisory</th>\n",
       "      <th>RecordID</th>\n",
       "    </tr>\n",
       "  </thead>\n",
       "  <tbody>\n",
       "    <tr>\n",
       "      <th>0</th>\n",
       "      <td>Calumet</td>\n",
       "      <td>06/04/2016</td>\n",
       "      <td>33.8</td>\n",
       "      <td>0.107</td>\n",
       "      <td>N</td>\n",
       "      <td>Calumet20160604</td>\n",
       "    </tr>\n",
       "    <tr>\n",
       "      <th>1</th>\n",
       "      <td>63rdStreet</td>\n",
       "      <td>06/04/2016</td>\n",
       "      <td>33.6</td>\n",
       "      <td>0.106</td>\n",
       "      <td>N</td>\n",
       "      <td>63rdStreet20160604</td>\n",
       "    </tr>\n",
       "    <tr>\n",
       "      <th>2</th>\n",
       "      <td>OakStreet</td>\n",
       "      <td>06/04/2016</td>\n",
       "      <td>18.9</td>\n",
       "      <td>0.018</td>\n",
       "      <td>N</td>\n",
       "      <td>OakStreet20160604</td>\n",
       "    </tr>\n",
       "    <tr>\n",
       "      <th>3</th>\n",
       "      <td>Foster</td>\n",
       "      <td>06/04/2016</td>\n",
       "      <td>14.9</td>\n",
       "      <td>0.021</td>\n",
       "      <td>N</td>\n",
       "      <td>Foster20160604</td>\n",
       "    </tr>\n",
       "    <tr>\n",
       "      <th>4</th>\n",
       "      <td>Montrose</td>\n",
       "      <td>06/04/2016</td>\n",
       "      <td>101.5</td>\n",
       "      <td>0.277</td>\n",
       "      <td>N</td>\n",
       "      <td>Montrose20160604</td>\n",
       "    </tr>\n",
       "  </tbody>\n",
       "</table>\n",
       "</div>"
      ],
      "text/plain": [
       "   Beach Name        Date  Predicted Level  Probability Swim Advisory  \\\n",
       "0     Calumet  06/04/2016             33.8        0.107             N   \n",
       "1  63rdStreet  06/04/2016             33.6        0.106             N   \n",
       "2   OakStreet  06/04/2016             18.9        0.018             N   \n",
       "3      Foster  06/04/2016             14.9        0.021             N   \n",
       "4    Montrose  06/04/2016            101.5        0.277             N   \n",
       "\n",
       "             RecordID  \n",
       "0     Calumet20160604  \n",
       "1  63rdStreet20160604  \n",
       "2   OakStreet20160604  \n",
       "3      Foster20160604  \n",
       "4    Montrose20160604  "
      ]
     },
     "execution_count": 2,
     "metadata": {},
     "output_type": "execute_result"
    }
   ],
   "source": [
    "swim_advisories = pd.read_csv('data/Beach_Swim_Advisories.csv')\n",
    "swim_advisories.head()"
   ]
  },
  {
   "cell_type": "code",
   "execution_count": 3,
   "metadata": {
    "collapsed": true
   },
   "outputs": [],
   "source": [
    "del swim_advisories['RecordID']"
   ]
  },
  {
   "cell_type": "code",
   "execution_count": 6,
   "metadata": {},
   "outputs": [
    {
     "data": {
      "text/html": [
       "<div>\n",
       "<table border=\"1\" class=\"dataframe\">\n",
       "  <thead>\n",
       "    <tr style=\"text-align: right;\">\n",
       "      <th></th>\n",
       "      <th>Culture Sample 1 Timestamp</th>\n",
       "      <th>Beach</th>\n",
       "      <th>Culture Reading Mean</th>\n",
       "    </tr>\n",
       "  </thead>\n",
       "  <tbody>\n",
       "    <tr>\n",
       "      <th>376</th>\n",
       "      <td>05/29/2007 12:00:00 AM</td>\n",
       "      <td>South Shore</td>\n",
       "      <td>10.0</td>\n",
       "    </tr>\n",
       "    <tr>\n",
       "      <th>377</th>\n",
       "      <td>06/18/2014 12:00:00 AM</td>\n",
       "      <td>Howard</td>\n",
       "      <td>4.0</td>\n",
       "    </tr>\n",
       "    <tr>\n",
       "      <th>378</th>\n",
       "      <td>07/15/2009 12:00:00 AM</td>\n",
       "      <td>12th Street</td>\n",
       "      <td>172.8</td>\n",
       "    </tr>\n",
       "    <tr>\n",
       "      <th>379</th>\n",
       "      <td>08/21/2015 12:00:00 AM</td>\n",
       "      <td>Juneway</td>\n",
       "      <td>1.7</td>\n",
       "    </tr>\n",
       "    <tr>\n",
       "      <th>380</th>\n",
       "      <td>06/21/2011 12:00:00 AM</td>\n",
       "      <td>Calumet</td>\n",
       "      <td>2.4</td>\n",
       "    </tr>\n",
       "  </tbody>\n",
       "</table>\n",
       "</div>"
      ],
      "text/plain": [
       "    Culture Sample 1 Timestamp        Beach  Culture Reading Mean\n",
       "376     05/29/2007 12:00:00 AM  South Shore                  10.0\n",
       "377     06/18/2014 12:00:00 AM       Howard                   4.0\n",
       "378     07/15/2009 12:00:00 AM  12th Street                 172.8\n",
       "379     08/21/2015 12:00:00 AM      Juneway                   1.7\n",
       "380     06/21/2011 12:00:00 AM      Calumet                   2.4"
      ]
     },
     "execution_count": 6,
     "metadata": {},
     "output_type": "execute_result"
    }
   ],
   "source": [
    "beach_samples = pd.read_csv('data/Beach_Lab_Data.csv')\n",
    "beach_samples = beach_samples.loc[~beach_samples['Beach'].isnull()]\n",
    "beach_samples = beach_samples[['Culture Sample 1 Timestamp', 'Beach', 'Culture Reading Mean']]\n",
    "beach_samples.head()"
   ]
  },
  {
   "cell_type": "code",
   "execution_count": 9,
   "metadata": {},
   "outputs": [
    {
     "data": {
      "text/html": [
       "<div>\n",
       "<table border=\"1\" class=\"dataframe\">\n",
       "  <thead>\n",
       "    <tr style=\"text-align: right;\">\n",
       "      <th></th>\n",
       "      <th>Culture Sample 1 Timestamp</th>\n",
       "      <th>Beach</th>\n",
       "      <th>Culture Reading Mean</th>\n",
       "      <th>date</th>\n",
       "    </tr>\n",
       "  </thead>\n",
       "  <tbody>\n",
       "    <tr>\n",
       "      <th>376</th>\n",
       "      <td>05/29/2007 12:00:00 AM</td>\n",
       "      <td>South Shore</td>\n",
       "      <td>10.0</td>\n",
       "      <td>05/29/2007</td>\n",
       "    </tr>\n",
       "    <tr>\n",
       "      <th>377</th>\n",
       "      <td>06/18/2014 12:00:00 AM</td>\n",
       "      <td>Howard</td>\n",
       "      <td>4.0</td>\n",
       "      <td>06/18/2014</td>\n",
       "    </tr>\n",
       "    <tr>\n",
       "      <th>378</th>\n",
       "      <td>07/15/2009 12:00:00 AM</td>\n",
       "      <td>12th Street</td>\n",
       "      <td>172.8</td>\n",
       "      <td>07/15/2009</td>\n",
       "    </tr>\n",
       "    <tr>\n",
       "      <th>379</th>\n",
       "      <td>08/21/2015 12:00:00 AM</td>\n",
       "      <td>Juneway</td>\n",
       "      <td>1.7</td>\n",
       "      <td>08/21/2015</td>\n",
       "    </tr>\n",
       "    <tr>\n",
       "      <th>380</th>\n",
       "      <td>06/21/2011 12:00:00 AM</td>\n",
       "      <td>Calumet</td>\n",
       "      <td>2.4</td>\n",
       "      <td>06/21/2011</td>\n",
       "    </tr>\n",
       "  </tbody>\n",
       "</table>\n",
       "</div>"
      ],
      "text/plain": [
       "    Culture Sample 1 Timestamp        Beach  Culture Reading Mean        date\n",
       "376     05/29/2007 12:00:00 AM  South Shore                  10.0  05/29/2007\n",
       "377     06/18/2014 12:00:00 AM       Howard                   4.0  06/18/2014\n",
       "378     07/15/2009 12:00:00 AM  12th Street                 172.8  07/15/2009\n",
       "379     08/21/2015 12:00:00 AM      Juneway                   1.7  08/21/2015\n",
       "380     06/21/2011 12:00:00 AM      Calumet                   2.4  06/21/2011"
      ]
     },
     "execution_count": 9,
     "metadata": {},
     "output_type": "execute_result"
    }
   ],
   "source": [
    "def get_date_str(timestamp):\n",
    "    the_date = timestamp.split(' ')[0]\n",
    "    if the_date.split('/')[2] == '0016':\n",
    "        the_date = '/'.join([the_date.split('/')[0], the_date.split('/')[1], '2016'])\n",
    "    return the_date\n",
    "\n",
    "beach_samples['date'] = beach_samples['Culture Sample 1 Timestamp'].apply(get_date_str)\n",
    "beach_samples.head()"
   ]
  },
  {
   "cell_type": "code",
   "execution_count": null,
   "metadata": {
    "collapsed": true
   },
   "outputs": [],
   "source": []
  }
 ],
 "metadata": {
  "kernelspec": {
   "display_name": "Python 3",
   "language": "python",
   "name": "python3"
  },
  "language_info": {
   "codemirror_mode": {
    "name": "ipython",
    "version": 3
   },
   "file_extension": ".py",
   "mimetype": "text/x-python",
   "name": "python",
   "nbconvert_exporter": "python",
   "pygments_lexer": "ipython3",
   "version": "3.6.0"
  }
 },
 "nbformat": 4,
 "nbformat_minor": 2
}
